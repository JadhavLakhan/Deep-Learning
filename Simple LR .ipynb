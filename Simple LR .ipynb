{
 "cells": [
  {
   "cell_type": "markdown",
   "id": "ea01e8fe",
   "metadata": {},
   "source": [
    "## Step I: Prepare the data"
   ]
  },
  {
   "cell_type": "code",
   "execution_count": 78,
   "id": "3c3092c2",
   "metadata": {},
   "outputs": [],
   "source": [
    "import pandas as pd\n",
    "import warnings"
   ]
  },
  {
   "cell_type": "code",
   "execution_count": 79,
   "id": "683ff514",
   "metadata": {},
   "outputs": [],
   "source": [
    "df=pd.read_csv(r\"C:\\Users\\Admin\\MSc Applied Statistics SPU\\csv file\\Salary_Data.csv\")"
   ]
  },
  {
   "cell_type": "code",
   "execution_count": 80,
   "id": "b037a613",
   "metadata": {},
   "outputs": [
    {
     "data": {
      "text/html": [
       "<div>\n",
       "<style scoped>\n",
       "    .dataframe tbody tr th:only-of-type {\n",
       "        vertical-align: middle;\n",
       "    }\n",
       "\n",
       "    .dataframe tbody tr th {\n",
       "        vertical-align: top;\n",
       "    }\n",
       "\n",
       "    .dataframe thead th {\n",
       "        text-align: right;\n",
       "    }\n",
       "</style>\n",
       "<table border=\"1\" class=\"dataframe\">\n",
       "  <thead>\n",
       "    <tr style=\"text-align: right;\">\n",
       "      <th></th>\n",
       "      <th>YearsExperience</th>\n",
       "      <th>Salary</th>\n",
       "    </tr>\n",
       "  </thead>\n",
       "  <tbody>\n",
       "    <tr>\n",
       "      <th>0</th>\n",
       "      <td>1.1</td>\n",
       "      <td>39343</td>\n",
       "    </tr>\n",
       "    <tr>\n",
       "      <th>1</th>\n",
       "      <td>1.3</td>\n",
       "      <td>46205</td>\n",
       "    </tr>\n",
       "    <tr>\n",
       "      <th>2</th>\n",
       "      <td>1.5</td>\n",
       "      <td>37731</td>\n",
       "    </tr>\n",
       "    <tr>\n",
       "      <th>3</th>\n",
       "      <td>2.0</td>\n",
       "      <td>43525</td>\n",
       "    </tr>\n",
       "    <tr>\n",
       "      <th>4</th>\n",
       "      <td>2.2</td>\n",
       "      <td>39891</td>\n",
       "    </tr>\n",
       "  </tbody>\n",
       "</table>\n",
       "</div>"
      ],
      "text/plain": [
       "   YearsExperience  Salary\n",
       "0              1.1   39343\n",
       "1              1.3   46205\n",
       "2              1.5   37731\n",
       "3              2.0   43525\n",
       "4              2.2   39891"
      ]
     },
     "execution_count": 80,
     "metadata": {},
     "output_type": "execute_result"
    }
   ],
   "source": [
    "df.head()"
   ]
  },
  {
   "cell_type": "markdown",
   "id": "9d918b65",
   "metadata": {},
   "source": [
    "## Input data (x) and corresponding output data (y)"
   ]
  },
  {
   "cell_type": "code",
   "execution_count": 81,
   "id": "be14edbf",
   "metadata": {},
   "outputs": [],
   "source": [
    "\n",
    "df['Salary']=df['Salary'].astype(float)\n",
    "X=np.array(df['YearsExperience'])\n",
    "y=np.array(df['Salary'])\n"
   ]
  },
  {
   "cell_type": "code",
   "execution_count": 82,
   "id": "9c03c58d",
   "metadata": {},
   "outputs": [
    {
     "name": "stdout",
     "output_type": "stream",
     "text": [
      "<class 'pandas.core.frame.DataFrame'>\n",
      "RangeIndex: 30 entries, 0 to 29\n",
      "Data columns (total 2 columns):\n",
      " #   Column           Non-Null Count  Dtype  \n",
      "---  ------           --------------  -----  \n",
      " 0   YearsExperience  30 non-null     float64\n",
      " 1   Salary           30 non-null     float64\n",
      "dtypes: float64(2)\n",
      "memory usage: 608.0 bytes\n"
     ]
    }
   ],
   "source": [
    "df.info()"
   ]
  },
  {
   "cell_type": "code",
   "execution_count": 83,
   "id": "b30a7fbc",
   "metadata": {},
   "outputs": [],
   "source": [
    "from keras.models import Sequential\n",
    "from keras.layers import Dense\n",
    "from keras.optimizers import SGD"
   ]
  },
  {
   "cell_type": "markdown",
   "id": "f3418bd3",
   "metadata": {},
   "source": [
    "### Sequential Model:\n",
    "\n",
    "The Sequential model is a linear stack of layers. You can create a model layer by layer. It's simple to use when you want to build a model with one input tensor and one output tensor.\n",
    "\n",
    "### Dense Layer:\n",
    "\n",
    "The Dense layer is a fully connected layer, where each input is connected to each output by a weight.\n",
    "You can specify the number of neurons (units) in the layer and the activation function.\n",
    "\n"
   ]
  },
  {
   "cell_type": "markdown",
   "id": "cdf4d944",
   "metadata": {},
   "source": [
    "## Step II: Build the neural network"
   ]
  },
  {
   "cell_type": "code",
   "execution_count": 84,
   "id": "61832dc8",
   "metadata": {},
   "outputs": [],
   "source": [
    "model=Sequential()\n",
    "model.add(Dense(units=1, input_dim=1, activation='linear'))\n",
    "# unit=1==>1 output neuron\n",
    "# input_dim=1:This indicates that the input data has a dimension of 1"
   ]
  },
  {
   "cell_type": "markdown",
   "id": "07208cfb",
   "metadata": {},
   "source": [
    "## Step III: Compile the model\n",
    "### Use mean squared error as the loss function and stochastic gradient descent as the optimizer"
   ]
  },
  {
   "cell_type": "code",
   "execution_count": 85,
   "id": "968b7183",
   "metadata": {},
   "outputs": [],
   "source": [
    "model.compile(optimizer=SGD(learning_rate=0.01),loss='mean_squared_error')"
   ]
  },
  {
   "cell_type": "markdown",
   "id": "a33c23c3",
   "metadata": {},
   "source": [
    "## Step IV: Train the model"
   ]
  },
  {
   "cell_type": "code",
   "execution_count": 86,
   "id": "c4ffbc70",
   "metadata": {},
   "outputs": [
    {
     "name": "stdout",
     "output_type": "stream",
     "text": [
      "Epoch 1/100\n",
      "1/1 [==============================] - 0s 433ms/step - loss: 6504324096.0000\n",
      "Epoch 2/100\n",
      "1/1 [==============================] - 0s 18ms/step - loss: 595566720.0000\n",
      "Epoch 3/100\n",
      "1/1 [==============================] - 0s 9ms/step - loss: 183112448.0000\n",
      "Epoch 4/100\n",
      "1/1 [==============================] - 0s 11ms/step - loss: 153438304.0000\n",
      "Epoch 5/100\n",
      "1/1 [==============================] - 0s 14ms/step - loss: 150429536.0000\n",
      "Epoch 6/100\n",
      "1/1 [==============================] - 0s 10ms/step - loss: 149285792.0000\n",
      "Epoch 7/100\n",
      "1/1 [==============================] - 0s 10ms/step - loss: 148279808.0000\n",
      "Epoch 8/100\n",
      "1/1 [==============================] - 0s 10ms/step - loss: 147291248.0000\n",
      "Epoch 9/100\n",
      "1/1 [==============================] - 0s 12ms/step - loss: 146311616.0000\n",
      "Epoch 10/100\n",
      "1/1 [==============================] - 0s 14ms/step - loss: 145340336.0000\n",
      "Epoch 11/100\n",
      "1/1 [==============================] - 0s 13ms/step - loss: 144377232.0000\n",
      "Epoch 12/100\n",
      "1/1 [==============================] - 0s 9ms/step - loss: 143422240.0000\n",
      "Epoch 13/100\n",
      "1/1 [==============================] - 0s 7ms/step - loss: 142475344.0000\n",
      "Epoch 14/100\n",
      "1/1 [==============================] - 0s 13ms/step - loss: 141536464.0000\n",
      "Epoch 15/100\n",
      "1/1 [==============================] - 0s 13ms/step - loss: 140605504.0000\n",
      "Epoch 16/100\n",
      "1/1 [==============================] - 0s 12ms/step - loss: 139682336.0000\n",
      "Epoch 17/100\n",
      "1/1 [==============================] - 0s 13ms/step - loss: 138767072.0000\n",
      "Epoch 18/100\n",
      "1/1 [==============================] - 0s 10ms/step - loss: 137859472.0000\n",
      "Epoch 19/100\n",
      "1/1 [==============================] - 0s 10ms/step - loss: 136959536.0000\n",
      "Epoch 20/100\n",
      "1/1 [==============================] - 0s 26ms/step - loss: 136067216.0000\n",
      "Epoch 21/100\n",
      "1/1 [==============================] - 0s 9ms/step - loss: 135182384.0000\n",
      "Epoch 22/100\n",
      "1/1 [==============================] - 0s 11ms/step - loss: 134305072.0000\n",
      "Epoch 23/100\n",
      "1/1 [==============================] - 0s 11ms/step - loss: 133435128.0000\n",
      "Epoch 24/100\n",
      "1/1 [==============================] - 0s 11ms/step - loss: 132572576.0000\n",
      "Epoch 25/100\n",
      "1/1 [==============================] - 0s 6ms/step - loss: 131717272.0000\n",
      "Epoch 26/100\n",
      "1/1 [==============================] - 0s 10ms/step - loss: 130869152.0000\n",
      "Epoch 27/100\n",
      "1/1 [==============================] - 0s 8ms/step - loss: 130028288.0000\n",
      "Epoch 28/100\n",
      "1/1 [==============================] - 0s 9ms/step - loss: 129194472.0000\n",
      "Epoch 29/100\n",
      "1/1 [==============================] - 0s 12ms/step - loss: 128367696.0000\n",
      "Epoch 30/100\n",
      "1/1 [==============================] - 0s 11ms/step - loss: 127547904.0000\n",
      "Epoch 31/100\n",
      "1/1 [==============================] - 0s 14ms/step - loss: 126735032.0000\n",
      "Epoch 32/100\n",
      "1/1 [==============================] - 0s 15ms/step - loss: 125929008.0000\n",
      "Epoch 33/100\n",
      "1/1 [==============================] - 0s 8ms/step - loss: 125129840.0000\n",
      "Epoch 34/100\n",
      "1/1 [==============================] - 0s 7ms/step - loss: 124337376.0000\n",
      "Epoch 35/100\n",
      "1/1 [==============================] - 0s 26ms/step - loss: 123551592.0000\n",
      "Epoch 36/100\n",
      "1/1 [==============================] - 0s 8ms/step - loss: 122772488.0000\n",
      "Epoch 37/100\n",
      "1/1 [==============================] - 0s 12ms/step - loss: 121999920.0000\n",
      "Epoch 38/100\n",
      "1/1 [==============================] - 0s 7ms/step - loss: 121233888.0000\n",
      "Epoch 39/100\n",
      "1/1 [==============================] - 0s 9ms/step - loss: 120474328.0000\n",
      "Epoch 40/100\n",
      "1/1 [==============================] - 0s 13ms/step - loss: 119721200.0000\n",
      "Epoch 41/100\n",
      "1/1 [==============================] - 0s 10ms/step - loss: 118974416.0000\n",
      "Epoch 42/100\n",
      "1/1 [==============================] - 0s 15ms/step - loss: 118233896.0000\n",
      "Epoch 43/100\n",
      "1/1 [==============================] - 0s 9ms/step - loss: 117499664.0000\n",
      "Epoch 44/100\n",
      "1/1 [==============================] - 0s 9ms/step - loss: 116771632.0000\n",
      "Epoch 45/100\n",
      "1/1 [==============================] - 0s 8ms/step - loss: 116049760.0000\n",
      "Epoch 46/100\n",
      "1/1 [==============================] - 0s 11ms/step - loss: 115333960.0000\n",
      "Epoch 47/100\n",
      "1/1 [==============================] - 0s 15ms/step - loss: 114624200.0000\n",
      "Epoch 48/100\n",
      "1/1 [==============================] - 0s 11ms/step - loss: 113920440.0000\n",
      "Epoch 49/100\n",
      "1/1 [==============================] - 0s 7ms/step - loss: 113222648.0000\n",
      "Epoch 50/100\n",
      "1/1 [==============================] - 0s 9ms/step - loss: 112530728.0000\n",
      "Epoch 51/100\n",
      "1/1 [==============================] - 0s 7ms/step - loss: 111844648.0000\n",
      "Epoch 52/100\n",
      "1/1 [==============================] - 0s 12ms/step - loss: 111164344.0000\n",
      "Epoch 53/100\n",
      "1/1 [==============================] - 0s 15ms/step - loss: 110489824.0000\n",
      "Epoch 54/100\n",
      "1/1 [==============================] - 0s 24ms/step - loss: 109820984.0000\n",
      "Epoch 55/100\n",
      "1/1 [==============================] - 0s 11ms/step - loss: 109157784.0000\n",
      "Epoch 56/100\n",
      "1/1 [==============================] - 0s 8ms/step - loss: 108500136.0000\n",
      "Epoch 57/100\n",
      "1/1 [==============================] - 0s 10ms/step - loss: 107848120.0000\n",
      "Epoch 58/100\n",
      "1/1 [==============================] - 0s 14ms/step - loss: 107201568.0000\n",
      "Epoch 59/100\n",
      "1/1 [==============================] - 0s 13ms/step - loss: 106560496.0000\n",
      "Epoch 60/100\n",
      "1/1 [==============================] - 0s 9ms/step - loss: 105924824.0000\n",
      "Epoch 61/100\n",
      "1/1 [==============================] - 0s 6ms/step - loss: 105294472.0000\n",
      "Epoch 62/100\n",
      "1/1 [==============================] - 0s 10ms/step - loss: 104669512.0000\n",
      "Epoch 63/100\n",
      "1/1 [==============================] - 0s 11ms/step - loss: 104049808.0000\n",
      "Epoch 64/100\n",
      "1/1 [==============================] - 0s 6ms/step - loss: 103435344.0000\n",
      "Epoch 65/100\n",
      "1/1 [==============================] - 0s 7ms/step - loss: 102826064.0000\n",
      "Epoch 66/100\n",
      "1/1 [==============================] - 0s 13ms/step - loss: 102221904.0000\n",
      "Epoch 67/100\n",
      "1/1 [==============================] - 0s 11ms/step - loss: 101622856.0000\n",
      "Epoch 68/100\n",
      "1/1 [==============================] - 0s 17ms/step - loss: 101028872.0000\n",
      "Epoch 69/100\n",
      "1/1 [==============================] - 0s 13ms/step - loss: 100439912.0000\n",
      "Epoch 70/100\n",
      "1/1 [==============================] - 0s 8ms/step - loss: 99855912.0000\n",
      "Epoch 71/100\n",
      "1/1 [==============================] - 0s 9ms/step - loss: 99276840.0000\n",
      "Epoch 72/100\n",
      "1/1 [==============================] - 0s 11ms/step - loss: 98702664.0000\n",
      "Epoch 73/100\n",
      "1/1 [==============================] - 0s 6ms/step - loss: 98133328.0000\n",
      "Epoch 74/100\n",
      "1/1 [==============================] - 0s 8ms/step - loss: 97568808.0000\n",
      "Epoch 75/100\n",
      "1/1 [==============================] - 0s 10ms/step - loss: 97009056.0000\n",
      "Epoch 76/100\n",
      "1/1 [==============================] - 0s 12ms/step - loss: 96454032.0000\n",
      "Epoch 77/100\n",
      "1/1 [==============================] - 0s 8ms/step - loss: 95903688.0000\n",
      "Epoch 78/100\n",
      "1/1 [==============================] - 0s 9ms/step - loss: 95357976.0000\n",
      "Epoch 79/100\n",
      "1/1 [==============================] - 0s 11ms/step - loss: 94816896.0000\n",
      "Epoch 80/100\n",
      "1/1 [==============================] - 0s 10ms/step - loss: 94280368.0000\n",
      "Epoch 81/100\n",
      "1/1 [==============================] - 0s 7ms/step - loss: 93748392.0000\n",
      "Epoch 82/100\n",
      "1/1 [==============================] - 0s 8ms/step - loss: 93220880.0000\n",
      "Epoch 83/100\n",
      "1/1 [==============================] - 0s 12ms/step - loss: 92697832.0000\n",
      "Epoch 84/100\n",
      "1/1 [==============================] - 0s 9ms/step - loss: 92179216.0000\n",
      "Epoch 85/100\n",
      "1/1 [==============================] - 0s 10ms/step - loss: 91664944.0000\n",
      "Epoch 86/100\n",
      "1/1 [==============================] - 0s 8ms/step - loss: 91155064.0000\n",
      "Epoch 87/100\n",
      "1/1 [==============================] - 0s 13ms/step - loss: 90649464.0000\n",
      "Epoch 88/100\n",
      "1/1 [==============================] - 0s 9ms/step - loss: 90148120.0000\n",
      "Epoch 89/100\n",
      "1/1 [==============================] - 0s 7ms/step - loss: 89651016.0000\n",
      "Epoch 90/100\n",
      "1/1 [==============================] - 0s 8ms/step - loss: 89158104.0000\n",
      "Epoch 91/100\n",
      "1/1 [==============================] - 0s 8ms/step - loss: 88669344.0000\n",
      "Epoch 92/100\n",
      "1/1 [==============================] - 0s 8ms/step - loss: 88184736.0000\n",
      "Epoch 93/100\n",
      "1/1 [==============================] - 0s 10ms/step - loss: 87704208.0000\n",
      "Epoch 94/100\n"
     ]
    },
    {
     "name": "stdout",
     "output_type": "stream",
     "text": [
      "1/1 [==============================] - 0s 11ms/step - loss: 87227768.0000\n",
      "Epoch 95/100\n",
      "1/1 [==============================] - 0s 12ms/step - loss: 86755288.0000\n",
      "Epoch 96/100\n",
      "1/1 [==============================] - 0s 8ms/step - loss: 86286840.0000\n",
      "Epoch 97/100\n",
      "1/1 [==============================] - 0s 11ms/step - loss: 85822344.0000\n",
      "Epoch 98/100\n",
      "1/1 [==============================] - 0s 9ms/step - loss: 85361760.0000\n",
      "Epoch 99/100\n",
      "1/1 [==============================] - 0s 8ms/step - loss: 84905048.0000\n",
      "Epoch 100/100\n",
      "1/1 [==============================] - 0s 34ms/step - loss: 84452216.0000\n"
     ]
    },
    {
     "data": {
      "text/plain": [
       "<keras.callbacks.History at 0x25a86e71970>"
      ]
     },
     "execution_count": 86,
     "metadata": {},
     "output_type": "execute_result"
    }
   ],
   "source": [
    "model.fit(X,y,epochs=100,verbose=1)"
   ]
  },
  {
   "cell_type": "markdown",
   "id": "3fd00bd5",
   "metadata": {},
   "source": [
    "## Step V: Predict"
   ]
  },
  {
   "cell_type": "code",
   "execution_count": 87,
   "id": "a27a5fcb",
   "metadata": {},
   "outputs": [
    {
     "name": "stdout",
     "output_type": "stream",
     "text": [
      "1/1 [==============================] - 0s 68ms/step\n",
      "[[21941.703]\n",
      " [33709.33 ]\n",
      " [45476.957]\n",
      " [57244.582]\n",
      " [69012.2  ]]\n"
     ]
    }
   ],
   "source": [
    "predicted = model.predict(x)\n",
    "print(predicted)"
   ]
  },
  {
   "cell_type": "markdown",
   "id": "fafc1136",
   "metadata": {},
   "source": [
    "## Step VI: Display the results"
   ]
  },
  {
   "cell_type": "code",
   "execution_count": 88,
   "id": "c9291e66",
   "metadata": {},
   "outputs": [
    {
     "name": "stdout",
     "output_type": "stream",
     "text": [
      "Input: 1.0, Actual Output: 39343.0, Predicted Output: 21941.703125\n",
      "Input: 2.0, Actual Output: 46205.0, Predicted Output: 33709.328125\n",
      "Input: 3.0, Actual Output: 37731.0, Predicted Output: 45476.95703125\n",
      "Input: 4.0, Actual Output: 43525.0, Predicted Output: 57244.58203125\n",
      "Input: 5.0, Actual Output: 39891.0, Predicted Output: 69012.203125\n"
     ]
    }
   ],
   "source": [
    "for i in range(len(x)):\n",
    "    print(f'Input: {x[i]}, Actual Output: {y[i]}, Predicted Output: {predicted[i][0]}')"
   ]
  },
  {
   "cell_type": "code",
   "execution_count": 89,
   "id": "ca28033b",
   "metadata": {},
   "outputs": [
    {
     "name": "stdout",
     "output_type": "stream",
     "text": [
      "Weights (slope): 11767.6259765625\n",
      "Biases (intercept): 10174.0771484375\n"
     ]
    }
   ],
   "source": [
    "\n",
    "weights, biases = model.layers[0].get_weights()\n",
    "print(f'Weights (slope): {weights[0][0]}')\n",
    "print(f'Biases (intercept): {biases[0]}')\n"
   ]
  },
  {
   "cell_type": "markdown",
   "id": "6e3d5916",
   "metadata": {},
   "source": [
    "Specifically, for every increase of 1 in the input variable x, the output y is expected to increase by approximately 11767.66.\n",
    "\n",
    "A bias suggests that when the input is 0, the model predicts that the output will be around 10173.84.\n",
    "\n",
    "This value represents the intercept of the linear regression line."
   ]
  },
  {
   "cell_type": "code",
   "execution_count": 77,
   "id": "5f6223ce",
   "metadata": {},
   "outputs": [
    {
     "name": "stdout",
     "output_type": "stream",
     "text": [
      "1/1 [==============================] - 0s 64ms/step\n",
      "[[23118.268]]\n"
     ]
    }
   ],
   "source": [
    "new_x = np.array([1.1], dtype=float)\n",
    "predictions = model.predict(new_x)\n",
    "print(predictions)\n"
   ]
  },
  {
   "cell_type": "code",
   "execution_count": 92,
   "id": "70beca0c",
   "metadata": {},
   "outputs": [
    {
     "name": "stdout",
     "output_type": "stream",
     "text": [
      "1/1 [==============================] - 0s 16ms/step\n",
      "prediction of Salary:- [[25471.99]]\n"
     ]
    }
   ],
   "source": [
    "import numpy as np\n",
    "\n",
    "# Your input data\n",
    "new_x = np.array([1.3], dtype=float)\n",
    "\n",
    "# Reshape to a 2D array\n",
    "new_x_reshaped = new_x.reshape(1, -1)\n",
    "\n",
    "# Make predictions\n",
    "Salary = model.predict(new_x_reshaped)\n",
    "print(\"prediction of Salary:-\",Salary)\n"
   ]
  },
  {
   "cell_type": "code",
   "execution_count": null,
   "id": "fca0aad3",
   "metadata": {},
   "outputs": [],
   "source": []
  },
  {
   "cell_type": "code",
   "execution_count": null,
   "id": "925c0ae8",
   "metadata": {},
   "outputs": [],
   "source": []
  }
 ],
 "metadata": {
  "kernelspec": {
   "display_name": "Python 3 (ipykernel)",
   "language": "python",
   "name": "python3"
  },
  "language_info": {
   "codemirror_mode": {
    "name": "ipython",
    "version": 3
   },
   "file_extension": ".py",
   "mimetype": "text/x-python",
   "name": "python",
   "nbconvert_exporter": "python",
   "pygments_lexer": "ipython3",
   "version": "3.9.13"
  }
 },
 "nbformat": 4,
 "nbformat_minor": 5
}
