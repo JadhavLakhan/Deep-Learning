{
 "cells": [
  {
   "cell_type": "markdown",
   "id": "9579b321",
   "metadata": {},
   "source": [
    "### Artificial Neural Network\n"
   ]
  },
  {
   "cell_type": "code",
   "execution_count": 2,
   "id": "0f89a0c6",
   "metadata": {},
   "outputs": [],
   "source": [
    "import pandas as pd\n",
    "import numpy as np\n",
    "import matplotlib.pyplot as plt"
   ]
  },
  {
   "cell_type": "code",
   "execution_count": 3,
   "id": "5a673e6b",
   "metadata": {},
   "outputs": [],
   "source": [
    "df=pd.read_csv(r\"C:\\Users\\Admin\\MSc Applied Statistics SPU\\Deep Learning\\Churn_Modelling.csv\")"
   ]
  },
  {
   "cell_type": "code",
   "execution_count": 4,
   "id": "58114645",
   "metadata": {},
   "outputs": [
    {
     "data": {
      "text/html": [
       "<div>\n",
       "<style scoped>\n",
       "    .dataframe tbody tr th:only-of-type {\n",
       "        vertical-align: middle;\n",
       "    }\n",
       "\n",
       "    .dataframe tbody tr th {\n",
       "        vertical-align: top;\n",
       "    }\n",
       "\n",
       "    .dataframe thead th {\n",
       "        text-align: right;\n",
       "    }\n",
       "</style>\n",
       "<table border=\"1\" class=\"dataframe\">\n",
       "  <thead>\n",
       "    <tr style=\"text-align: right;\">\n",
       "      <th></th>\n",
       "      <th>RowNumber</th>\n",
       "      <th>CustomerId</th>\n",
       "      <th>Surname</th>\n",
       "      <th>CreditScore</th>\n",
       "      <th>Geography</th>\n",
       "      <th>Gender</th>\n",
       "      <th>Age</th>\n",
       "      <th>Tenure</th>\n",
       "      <th>Balance</th>\n",
       "      <th>NumOfProducts</th>\n",
       "      <th>HasCrCard</th>\n",
       "      <th>IsActiveMember</th>\n",
       "      <th>EstimatedSalary</th>\n",
       "      <th>Exited</th>\n",
       "    </tr>\n",
       "  </thead>\n",
       "  <tbody>\n",
       "    <tr>\n",
       "      <th>0</th>\n",
       "      <td>1</td>\n",
       "      <td>15634602</td>\n",
       "      <td>Hargrave</td>\n",
       "      <td>619</td>\n",
       "      <td>France</td>\n",
       "      <td>Female</td>\n",
       "      <td>42</td>\n",
       "      <td>2</td>\n",
       "      <td>0.00</td>\n",
       "      <td>1</td>\n",
       "      <td>1</td>\n",
       "      <td>1</td>\n",
       "      <td>101348.88</td>\n",
       "      <td>1</td>\n",
       "    </tr>\n",
       "    <tr>\n",
       "      <th>1</th>\n",
       "      <td>2</td>\n",
       "      <td>15647311</td>\n",
       "      <td>Hill</td>\n",
       "      <td>608</td>\n",
       "      <td>Spain</td>\n",
       "      <td>Female</td>\n",
       "      <td>41</td>\n",
       "      <td>1</td>\n",
       "      <td>83807.86</td>\n",
       "      <td>1</td>\n",
       "      <td>0</td>\n",
       "      <td>1</td>\n",
       "      <td>112542.58</td>\n",
       "      <td>0</td>\n",
       "    </tr>\n",
       "    <tr>\n",
       "      <th>2</th>\n",
       "      <td>3</td>\n",
       "      <td>15619304</td>\n",
       "      <td>Onio</td>\n",
       "      <td>502</td>\n",
       "      <td>France</td>\n",
       "      <td>Female</td>\n",
       "      <td>42</td>\n",
       "      <td>8</td>\n",
       "      <td>159660.80</td>\n",
       "      <td>3</td>\n",
       "      <td>1</td>\n",
       "      <td>0</td>\n",
       "      <td>113931.57</td>\n",
       "      <td>1</td>\n",
       "    </tr>\n",
       "    <tr>\n",
       "      <th>3</th>\n",
       "      <td>4</td>\n",
       "      <td>15701354</td>\n",
       "      <td>Boni</td>\n",
       "      <td>699</td>\n",
       "      <td>France</td>\n",
       "      <td>Female</td>\n",
       "      <td>39</td>\n",
       "      <td>1</td>\n",
       "      <td>0.00</td>\n",
       "      <td>2</td>\n",
       "      <td>0</td>\n",
       "      <td>0</td>\n",
       "      <td>93826.63</td>\n",
       "      <td>0</td>\n",
       "    </tr>\n",
       "    <tr>\n",
       "      <th>4</th>\n",
       "      <td>5</td>\n",
       "      <td>15737888</td>\n",
       "      <td>Mitchell</td>\n",
       "      <td>850</td>\n",
       "      <td>Spain</td>\n",
       "      <td>Female</td>\n",
       "      <td>43</td>\n",
       "      <td>2</td>\n",
       "      <td>125510.82</td>\n",
       "      <td>1</td>\n",
       "      <td>1</td>\n",
       "      <td>1</td>\n",
       "      <td>79084.10</td>\n",
       "      <td>0</td>\n",
       "    </tr>\n",
       "  </tbody>\n",
       "</table>\n",
       "</div>"
      ],
      "text/plain": [
       "   RowNumber  CustomerId   Surname  CreditScore Geography  Gender  Age  \\\n",
       "0          1    15634602  Hargrave          619    France  Female   42   \n",
       "1          2    15647311      Hill          608     Spain  Female   41   \n",
       "2          3    15619304      Onio          502    France  Female   42   \n",
       "3          4    15701354      Boni          699    France  Female   39   \n",
       "4          5    15737888  Mitchell          850     Spain  Female   43   \n",
       "\n",
       "   Tenure    Balance  NumOfProducts  HasCrCard  IsActiveMember  \\\n",
       "0       2       0.00              1          1               1   \n",
       "1       1   83807.86              1          0               1   \n",
       "2       8  159660.80              3          1               0   \n",
       "3       1       0.00              2          0               0   \n",
       "4       2  125510.82              1          1               1   \n",
       "\n",
       "   EstimatedSalary  Exited  \n",
       "0        101348.88       1  \n",
       "1        112542.58       0  \n",
       "2        113931.57       1  \n",
       "3         93826.63       0  \n",
       "4         79084.10       0  "
      ]
     },
     "execution_count": 4,
     "metadata": {},
     "output_type": "execute_result"
    }
   ],
   "source": [
    "df.head()"
   ]
  },
  {
   "cell_type": "code",
   "execution_count": 5,
   "id": "84b90712",
   "metadata": {},
   "outputs": [
    {
     "data": {
      "text/plain": [
       "(10000, 14)"
      ]
     },
     "execution_count": 5,
     "metadata": {},
     "output_type": "execute_result"
    }
   ],
   "source": [
    "df.shape"
   ]
  },
  {
   "cell_type": "code",
   "execution_count": 6,
   "id": "d476a28c",
   "metadata": {},
   "outputs": [
    {
     "data": {
      "text/plain": [
       "array(['France', 'Spain', 'Germany'], dtype=object)"
      ]
     },
     "execution_count": 6,
     "metadata": {},
     "output_type": "execute_result"
    }
   ],
   "source": [
    "df[\"Geography\"].unique()"
   ]
  },
  {
   "cell_type": "code",
   "execution_count": 7,
   "id": "4d84d774",
   "metadata": {},
   "outputs": [],
   "source": [
    "X=df.iloc[:,3:12]\n",
    "y=df['Exited']"
   ]
  },
  {
   "cell_type": "code",
   "execution_count": 8,
   "id": "a780b5aa",
   "metadata": {},
   "outputs": [],
   "source": [
    "## Feature Engineering\n",
    "gph=pd.get_dummies(X['Geography'],dtype=int,drop_first=True)\n",
    "gender=pd.get_dummies(X['Gender'],dtype=int,drop_first=True)"
   ]
  },
  {
   "cell_type": "code",
   "execution_count": 9,
   "id": "c9785270",
   "metadata": {},
   "outputs": [
    {
     "data": {
      "text/html": [
       "<div>\n",
       "<style scoped>\n",
       "    .dataframe tbody tr th:only-of-type {\n",
       "        vertical-align: middle;\n",
       "    }\n",
       "\n",
       "    .dataframe tbody tr th {\n",
       "        vertical-align: top;\n",
       "    }\n",
       "\n",
       "    .dataframe thead th {\n",
       "        text-align: right;\n",
       "    }\n",
       "</style>\n",
       "<table border=\"1\" class=\"dataframe\">\n",
       "  <thead>\n",
       "    <tr style=\"text-align: right;\">\n",
       "      <th></th>\n",
       "      <th>CreditScore</th>\n",
       "      <th>Age</th>\n",
       "      <th>Tenure</th>\n",
       "      <th>Balance</th>\n",
       "      <th>NumOfProducts</th>\n",
       "      <th>HasCrCard</th>\n",
       "      <th>IsActiveMember</th>\n",
       "    </tr>\n",
       "  </thead>\n",
       "  <tbody>\n",
       "    <tr>\n",
       "      <th>0</th>\n",
       "      <td>619</td>\n",
       "      <td>42</td>\n",
       "      <td>2</td>\n",
       "      <td>0.00</td>\n",
       "      <td>1</td>\n",
       "      <td>1</td>\n",
       "      <td>1</td>\n",
       "    </tr>\n",
       "    <tr>\n",
       "      <th>1</th>\n",
       "      <td>608</td>\n",
       "      <td>41</td>\n",
       "      <td>1</td>\n",
       "      <td>83807.86</td>\n",
       "      <td>1</td>\n",
       "      <td>0</td>\n",
       "      <td>1</td>\n",
       "    </tr>\n",
       "    <tr>\n",
       "      <th>2</th>\n",
       "      <td>502</td>\n",
       "      <td>42</td>\n",
       "      <td>8</td>\n",
       "      <td>159660.80</td>\n",
       "      <td>3</td>\n",
       "      <td>1</td>\n",
       "      <td>0</td>\n",
       "    </tr>\n",
       "    <tr>\n",
       "      <th>3</th>\n",
       "      <td>699</td>\n",
       "      <td>39</td>\n",
       "      <td>1</td>\n",
       "      <td>0.00</td>\n",
       "      <td>2</td>\n",
       "      <td>0</td>\n",
       "      <td>0</td>\n",
       "    </tr>\n",
       "    <tr>\n",
       "      <th>4</th>\n",
       "      <td>850</td>\n",
       "      <td>43</td>\n",
       "      <td>2</td>\n",
       "      <td>125510.82</td>\n",
       "      <td>1</td>\n",
       "      <td>1</td>\n",
       "      <td>1</td>\n",
       "    </tr>\n",
       "  </tbody>\n",
       "</table>\n",
       "</div>"
      ],
      "text/plain": [
       "   CreditScore  Age  Tenure    Balance  NumOfProducts  HasCrCard  \\\n",
       "0          619   42       2       0.00              1          1   \n",
       "1          608   41       1   83807.86              1          0   \n",
       "2          502   42       8  159660.80              3          1   \n",
       "3          699   39       1       0.00              2          0   \n",
       "4          850   43       2  125510.82              1          1   \n",
       "\n",
       "   IsActiveMember  \n",
       "0               1  \n",
       "1               1  \n",
       "2               0  \n",
       "3               0  \n",
       "4               1  "
      ]
     },
     "execution_count": 9,
     "metadata": {},
     "output_type": "execute_result"
    }
   ],
   "source": [
    "## Concatenate these variable with dataframe\n",
    "X=X.drop(['Geography','Gender'],axis=1)\n",
    "X.head()"
   ]
  },
  {
   "cell_type": "code",
   "execution_count": 10,
   "id": "ee2a65b4",
   "metadata": {},
   "outputs": [
    {
     "data": {
      "text/html": [
       "<div>\n",
       "<style scoped>\n",
       "    .dataframe tbody tr th:only-of-type {\n",
       "        vertical-align: middle;\n",
       "    }\n",
       "\n",
       "    .dataframe tbody tr th {\n",
       "        vertical-align: top;\n",
       "    }\n",
       "\n",
       "    .dataframe thead th {\n",
       "        text-align: right;\n",
       "    }\n",
       "</style>\n",
       "<table border=\"1\" class=\"dataframe\">\n",
       "  <thead>\n",
       "    <tr style=\"text-align: right;\">\n",
       "      <th></th>\n",
       "      <th>CreditScore</th>\n",
       "      <th>Age</th>\n",
       "      <th>Tenure</th>\n",
       "      <th>Balance</th>\n",
       "      <th>NumOfProducts</th>\n",
       "      <th>HasCrCard</th>\n",
       "      <th>IsActiveMember</th>\n",
       "      <th>Germany</th>\n",
       "      <th>Spain</th>\n",
       "      <th>Male</th>\n",
       "    </tr>\n",
       "  </thead>\n",
       "  <tbody>\n",
       "    <tr>\n",
       "      <th>0</th>\n",
       "      <td>619</td>\n",
       "      <td>42</td>\n",
       "      <td>2</td>\n",
       "      <td>0.00</td>\n",
       "      <td>1</td>\n",
       "      <td>1</td>\n",
       "      <td>1</td>\n",
       "      <td>0</td>\n",
       "      <td>0</td>\n",
       "      <td>0</td>\n",
       "    </tr>\n",
       "    <tr>\n",
       "      <th>1</th>\n",
       "      <td>608</td>\n",
       "      <td>41</td>\n",
       "      <td>1</td>\n",
       "      <td>83807.86</td>\n",
       "      <td>1</td>\n",
       "      <td>0</td>\n",
       "      <td>1</td>\n",
       "      <td>0</td>\n",
       "      <td>1</td>\n",
       "      <td>0</td>\n",
       "    </tr>\n",
       "    <tr>\n",
       "      <th>2</th>\n",
       "      <td>502</td>\n",
       "      <td>42</td>\n",
       "      <td>8</td>\n",
       "      <td>159660.80</td>\n",
       "      <td>3</td>\n",
       "      <td>1</td>\n",
       "      <td>0</td>\n",
       "      <td>0</td>\n",
       "      <td>0</td>\n",
       "      <td>0</td>\n",
       "    </tr>\n",
       "    <tr>\n",
       "      <th>3</th>\n",
       "      <td>699</td>\n",
       "      <td>39</td>\n",
       "      <td>1</td>\n",
       "      <td>0.00</td>\n",
       "      <td>2</td>\n",
       "      <td>0</td>\n",
       "      <td>0</td>\n",
       "      <td>0</td>\n",
       "      <td>0</td>\n",
       "      <td>0</td>\n",
       "    </tr>\n",
       "    <tr>\n",
       "      <th>4</th>\n",
       "      <td>850</td>\n",
       "      <td>43</td>\n",
       "      <td>2</td>\n",
       "      <td>125510.82</td>\n",
       "      <td>1</td>\n",
       "      <td>1</td>\n",
       "      <td>1</td>\n",
       "      <td>0</td>\n",
       "      <td>1</td>\n",
       "      <td>0</td>\n",
       "    </tr>\n",
       "  </tbody>\n",
       "</table>\n",
       "</div>"
      ],
      "text/plain": [
       "   CreditScore  Age  Tenure    Balance  NumOfProducts  HasCrCard  \\\n",
       "0          619   42       2       0.00              1          1   \n",
       "1          608   41       1   83807.86              1          0   \n",
       "2          502   42       8  159660.80              3          1   \n",
       "3          699   39       1       0.00              2          0   \n",
       "4          850   43       2  125510.82              1          1   \n",
       "\n",
       "   IsActiveMember  Germany  Spain  Male  \n",
       "0               1        0      0     0  \n",
       "1               1        0      1     0  \n",
       "2               0        0      0     0  \n",
       "3               0        0      0     0  \n",
       "4               1        0      1     0  "
      ]
     },
     "execution_count": 10,
     "metadata": {},
     "output_type": "execute_result"
    }
   ],
   "source": [
    "X=pd.concat([X,gph,gender],axis=1)\n",
    "X.head()"
   ]
  },
  {
   "cell_type": "code",
   "execution_count": 11,
   "id": "c634a502",
   "metadata": {},
   "outputs": [],
   "source": [
    "from sklearn.model_selection import train_test_split"
   ]
  },
  {
   "cell_type": "code",
   "execution_count": 12,
   "id": "4d70db1e",
   "metadata": {},
   "outputs": [],
   "source": [
    "X_train,X_test,y_train,y_test=train_test_split(X,y,test_size=0.2,random_state=0)"
   ]
  },
  {
   "cell_type": "code",
   "execution_count": 13,
   "id": "a828ab19",
   "metadata": {},
   "outputs": [],
   "source": [
    "## Feature Scaling\n",
    "from sklearn.preprocessing import StandardScaler"
   ]
  },
  {
   "cell_type": "code",
   "execution_count": 14,
   "id": "e8082b00",
   "metadata": {},
   "outputs": [],
   "source": [
    "st=StandardScaler()\n",
    "X_train=st.fit_transform(X_train)\n",
    "X_test=st.fit_transform(X_test)"
   ]
  },
  {
   "cell_type": "code",
   "execution_count": 15,
   "id": "b3a4a7c6",
   "metadata": {},
   "outputs": [
    {
     "data": {
      "text/plain": [
       "((8000, 10), (2000, 10))"
      ]
     },
     "execution_count": 15,
     "metadata": {},
     "output_type": "execute_result"
    }
   ],
   "source": [
    "X_train.shape,X_test.shape"
   ]
  },
  {
   "cell_type": "code",
   "execution_count": 16,
   "id": "25e0f795",
   "metadata": {},
   "outputs": [],
   "source": [
    "## Prat 2 \n",
    "## Create the ANN"
   ]
  },
  {
   "cell_type": "code",
   "execution_count": 17,
   "id": "4bc02205",
   "metadata": {},
   "outputs": [],
   "source": [
    "from tensorflow.keras.models import Sequential # Sequential (forward and backword propogation)\n",
    "from tensorflow.keras.layers import Dense #create input , hidden and output layer\n",
    "from tensorflow.keras.layers import LeakyReLU,PReLU,ReLU # Activation function\n",
    "from tensorflow.keras.layers import Dropout #reduced overfitting"
   ]
  },
  {
   "cell_type": "code",
   "execution_count": 18,
   "id": "3a399732",
   "metadata": {},
   "outputs": [],
   "source": [
    "## Lets initialize the ANN\n",
    "classifier=Sequential()"
   ]
  },
  {
   "cell_type": "code",
   "execution_count": 38,
   "id": "8575664a",
   "metadata": {},
   "outputs": [],
   "source": [
    "## Adding input layer\n",
    "classifier.add(Dense(units=10,activation='relu'))\n",
    "classifier.add(Dropout(0.2))"
   ]
  },
  {
   "cell_type": "code",
   "execution_count": 39,
   "id": "0118920b",
   "metadata": {},
   "outputs": [],
   "source": [
    "## Adding First Hidden layer\n",
    "classifier.add(Dense(units=7,activation='relu'))\n",
    "classifier.add(Dropout(0.3))"
   ]
  },
  {
   "cell_type": "code",
   "execution_count": 40,
   "id": "ebd18e9b",
   "metadata": {},
   "outputs": [],
   "source": [
    "## Aadding Second Hidden layer\n",
    "classifier.add(Dense(units=6,activation='relu'))"
   ]
  },
  {
   "cell_type": "code",
   "execution_count": 41,
   "id": "1130cde8",
   "metadata": {},
   "outputs": [],
   "source": [
    "## Adding the output layer\n",
    "classifier.add(Dense(1,activation='sigmoid'))"
   ]
  },
  {
   "cell_type": "code",
   "execution_count": 42,
   "id": "f1f77270",
   "metadata": {},
   "outputs": [],
   "source": [
    "classifier.compile(optimizer='adam',loss='binary_crossentropy',metrics=['accuracy'])#by default learning rate is 0.01"
   ]
  },
  {
   "cell_type": "code",
   "execution_count": 43,
   "id": "9e73d505",
   "metadata": {},
   "outputs": [],
   "source": [
    "import tensorflow\n",
    "opt=tensorflow.keras.optimizers.Adam(learning_rate=0.01)"
   ]
  },
  {
   "cell_type": "code",
   "execution_count": 44,
   "id": "4ae573f8",
   "metadata": {},
   "outputs": [],
   "source": [
    "#classifier.compile(optimizer='opt',loss='binary_crossentropy',metrics=['accuracy'])"
   ]
  },
  {
   "cell_type": "code",
   "execution_count": 45,
   "id": "ae394bf6",
   "metadata": {},
   "outputs": [],
   "source": [
    "## early stopping\n",
    "import tensorflow as tf\n",
    "early_stopping=tf.keras.callbacks.EarlyStopping(\n",
    "    monitor=\"val_loss\",\n",
    "    min_delta=0.0001,\n",
    "    patience=20,\n",
    "    verbose=1,\n",
    "    mode=\"auto\",\n",
    "    baseline=None,\n",
    "    restore_best_weights=False,\n",
    "    start_from_epoch=0,\n",
    ")"
   ]
  },
  {
   "cell_type": "code",
   "execution_count": 46,
   "id": "8cf2bddd",
   "metadata": {},
   "outputs": [
    {
     "name": "stdout",
     "output_type": "stream",
     "text": [
      "Epoch 1/1000\n",
      "536/536 [==============================] - 3s 3ms/step - loss: 0.4926 - accuracy: 0.8147 - val_loss: 0.3820 - val_accuracy: 0.8546\n",
      "Epoch 2/1000\n",
      "536/536 [==============================] - 1s 3ms/step - loss: 0.3848 - accuracy: 0.8337 - val_loss: 0.3789 - val_accuracy: 0.8482\n",
      "Epoch 3/1000\n",
      "536/536 [==============================] - 1s 2ms/step - loss: 0.3693 - accuracy: 0.8533 - val_loss: 0.3730 - val_accuracy: 0.8557\n",
      "Epoch 4/1000\n",
      "536/536 [==============================] - 1s 2ms/step - loss: 0.3663 - accuracy: 0.8524 - val_loss: 0.3716 - val_accuracy: 0.8512\n",
      "Epoch 5/1000\n",
      "536/536 [==============================] - 1s 2ms/step - loss: 0.3641 - accuracy: 0.8520 - val_loss: 0.3710 - val_accuracy: 0.8448\n",
      "Epoch 6/1000\n",
      "536/536 [==============================] - 1s 3ms/step - loss: 0.3559 - accuracy: 0.8574 - val_loss: 0.3682 - val_accuracy: 0.8508\n",
      "Epoch 7/1000\n",
      "536/536 [==============================] - 1s 3ms/step - loss: 0.3549 - accuracy: 0.8548 - val_loss: 0.3652 - val_accuracy: 0.8573\n",
      "Epoch 8/1000\n",
      "536/536 [==============================] - 1s 2ms/step - loss: 0.3446 - accuracy: 0.8617 - val_loss: 0.3695 - val_accuracy: 0.8519\n",
      "Epoch 9/1000\n",
      "536/536 [==============================] - 1s 3ms/step - loss: 0.3448 - accuracy: 0.8578 - val_loss: 0.3688 - val_accuracy: 0.8527\n",
      "Epoch 10/1000\n",
      "536/536 [==============================] - 1s 3ms/step - loss: 0.3454 - accuracy: 0.8625 - val_loss: 0.3649 - val_accuracy: 0.8542\n",
      "Epoch 11/1000\n",
      "536/536 [==============================] - 1s 2ms/step - loss: 0.3474 - accuracy: 0.8614 - val_loss: 0.3625 - val_accuracy: 0.8557\n",
      "Epoch 12/1000\n",
      "536/536 [==============================] - 1s 2ms/step - loss: 0.3376 - accuracy: 0.8660 - val_loss: 0.3640 - val_accuracy: 0.8569\n",
      "Epoch 13/1000\n",
      "536/536 [==============================] - 1s 3ms/step - loss: 0.3374 - accuracy: 0.8638 - val_loss: 0.3616 - val_accuracy: 0.8573\n",
      "Epoch 14/1000\n",
      "536/536 [==============================] - 1s 2ms/step - loss: 0.3412 - accuracy: 0.8627 - val_loss: 0.3608 - val_accuracy: 0.8519\n",
      "Epoch 15/1000\n",
      "536/536 [==============================] - 1s 2ms/step - loss: 0.3396 - accuracy: 0.8671 - val_loss: 0.3624 - val_accuracy: 0.8554\n",
      "Epoch 16/1000\n",
      "536/536 [==============================] - 1s 3ms/step - loss: 0.3362 - accuracy: 0.8653 - val_loss: 0.3631 - val_accuracy: 0.8565\n",
      "Epoch 17/1000\n",
      "536/536 [==============================] - 1s 3ms/step - loss: 0.3363 - accuracy: 0.8660 - val_loss: 0.3665 - val_accuracy: 0.8535\n",
      "Epoch 18/1000\n",
      "536/536 [==============================] - 1s 3ms/step - loss: 0.3384 - accuracy: 0.8653 - val_loss: 0.3638 - val_accuracy: 0.8493\n",
      "Epoch 19/1000\n",
      "536/536 [==============================] - 1s 2ms/step - loss: 0.3339 - accuracy: 0.8660 - val_loss: 0.3611 - val_accuracy: 0.8565\n",
      "Epoch 20/1000\n",
      "536/536 [==============================] - 1s 3ms/step - loss: 0.3307 - accuracy: 0.8684 - val_loss: 0.3659 - val_accuracy: 0.8504\n",
      "Epoch 21/1000\n",
      "536/536 [==============================] - 1s 3ms/step - loss: 0.3292 - accuracy: 0.8671 - val_loss: 0.3693 - val_accuracy: 0.8519\n",
      "Epoch 22/1000\n",
      "536/536 [==============================] - 1s 3ms/step - loss: 0.3337 - accuracy: 0.8670 - val_loss: 0.3605 - val_accuracy: 0.8546\n",
      "Epoch 23/1000\n",
      "536/536 [==============================] - 1s 3ms/step - loss: 0.3353 - accuracy: 0.8662 - val_loss: 0.3663 - val_accuracy: 0.8546\n",
      "Epoch 24/1000\n",
      "536/536 [==============================] - 1s 2ms/step - loss: 0.3349 - accuracy: 0.8617 - val_loss: 0.3627 - val_accuracy: 0.8565\n",
      "Epoch 25/1000\n",
      "536/536 [==============================] - 1s 2ms/step - loss: 0.3294 - accuracy: 0.8696 - val_loss: 0.3653 - val_accuracy: 0.8527\n",
      "Epoch 26/1000\n",
      "536/536 [==============================] - 1s 3ms/step - loss: 0.3314 - accuracy: 0.8671 - val_loss: 0.3621 - val_accuracy: 0.8535\n",
      "Epoch 27/1000\n",
      "536/536 [==============================] - 1s 2ms/step - loss: 0.3293 - accuracy: 0.8692 - val_loss: 0.3641 - val_accuracy: 0.8527\n",
      "Epoch 28/1000\n",
      "536/536 [==============================] - 1s 3ms/step - loss: 0.3310 - accuracy: 0.8684 - val_loss: 0.3668 - val_accuracy: 0.8512\n",
      "Epoch 29/1000\n",
      "536/536 [==============================] - 1s 3ms/step - loss: 0.3316 - accuracy: 0.8666 - val_loss: 0.3667 - val_accuracy: 0.8512\n",
      "Epoch 30/1000\n",
      "536/536 [==============================] - 1s 3ms/step - loss: 0.3302 - accuracy: 0.8684 - val_loss: 0.3647 - val_accuracy: 0.8531\n",
      "Epoch 31/1000\n",
      "536/536 [==============================] - 1s 3ms/step - loss: 0.3303 - accuracy: 0.8681 - val_loss: 0.3648 - val_accuracy: 0.8527\n",
      "Epoch 32/1000\n",
      "536/536 [==============================] - 1s 3ms/step - loss: 0.3257 - accuracy: 0.8701 - val_loss: 0.3614 - val_accuracy: 0.8519\n",
      "Epoch 33/1000\n",
      "536/536 [==============================] - 1s 2ms/step - loss: 0.3310 - accuracy: 0.8660 - val_loss: 0.3635 - val_accuracy: 0.8538\n",
      "Epoch 34/1000\n",
      "536/536 [==============================] - 2s 3ms/step - loss: 0.3245 - accuracy: 0.8716 - val_loss: 0.3651 - val_accuracy: 0.8523\n",
      "Epoch 35/1000\n",
      "536/536 [==============================] - 2s 3ms/step - loss: 0.3290 - accuracy: 0.8675 - val_loss: 0.3640 - val_accuracy: 0.8493\n",
      "Epoch 36/1000\n",
      "536/536 [==============================] - 1s 2ms/step - loss: 0.3270 - accuracy: 0.8656 - val_loss: 0.3676 - val_accuracy: 0.8489\n",
      "Epoch 37/1000\n",
      "536/536 [==============================] - 1s 2ms/step - loss: 0.3284 - accuracy: 0.8664 - val_loss: 0.3628 - val_accuracy: 0.8535\n",
      "Epoch 38/1000\n",
      "536/536 [==============================] - 1s 3ms/step - loss: 0.3253 - accuracy: 0.8694 - val_loss: 0.3629 - val_accuracy: 0.8546\n",
      "Epoch 39/1000\n",
      "536/536 [==============================] - 1s 2ms/step - loss: 0.3245 - accuracy: 0.8679 - val_loss: 0.3650 - val_accuracy: 0.8538\n",
      "Epoch 40/1000\n",
      "536/536 [==============================] - 1s 3ms/step - loss: 0.3263 - accuracy: 0.8662 - val_loss: 0.3637 - val_accuracy: 0.8512\n",
      "Epoch 41/1000\n",
      "536/536 [==============================] - 1s 2ms/step - loss: 0.3274 - accuracy: 0.8658 - val_loss: 0.3629 - val_accuracy: 0.8535\n",
      "Epoch 42/1000\n",
      "536/536 [==============================] - 1s 3ms/step - loss: 0.3269 - accuracy: 0.8666 - val_loss: 0.3673 - val_accuracy: 0.8504\n",
      "Epoch 42: early stopping\n"
     ]
    }
   ],
   "source": [
    "model_history=classifier.fit(X_train,y_train,validation_split=0.33,batch_size=10,epochs=1000,callbacks=early_stopping)"
   ]
  },
  {
   "cell_type": "code",
   "execution_count": 47,
   "id": "558708d5",
   "metadata": {},
   "outputs": [
    {
     "data": {
      "text/plain": [
       "dict_keys(['loss', 'accuracy', 'val_loss', 'val_accuracy'])"
      ]
     },
     "execution_count": 47,
     "metadata": {},
     "output_type": "execute_result"
    }
   ],
   "source": [
    "model_history.history.keys()"
   ]
  },
  {
   "cell_type": "code",
   "execution_count": 48,
   "id": "b211bf64",
   "metadata": {},
   "outputs": [
    {
     "data": {
      "image/png": "[encoded data removed]",
      "text/plain": [
       "<Figure size 640x480 with 1 Axes>"
      ]
     },
     "metadata": {},
     "output_type": "display_data"
    }
   ],
   "source": [
    "## Summarize history for accuracy\n",
    "plt.plot(model_history.history['accuracy'])\n",
    "plt.plot(model_history.history['val_loss'])\n",
    "plt.title(\"Model Accuracy\")\n",
    "plt.xlabel('Epoch')\n",
    "plt.ylabel(\"Accuracy\")\n",
    "plt.legend(['train','test'],loc='upper left')\n",
    "plt.show()\n",
    "\n"
   ]
  },
  {
   "cell_type": "code",
   "execution_count": 50,
   "id": "403366d9",
   "metadata": {},
   "outputs": [
    {
     "data": {
      "image/png": "[encoded data removed]",
      "text/plain": [
       "<Figure size 640x480 with 1 Axes>"
      ]
     },
     "metadata": {},
     "output_type": "display_data"
    }
   ],
   "source": [
    "## Summarize history for accuracy\n",
    "plt.plot(model_history.history['loss'])\n",
    "plt.plot(model_history.history['val_loss'])\n",
    "plt.title(\"Model Accuracy\")\n",
    "plt.xlabel('Epoch')\n",
    "plt.ylabel(\"Loss\")\n",
    "plt.legend(['train','test'],loc='upper left')\n",
    "plt.show()\n",
    "\n"
   ]
  },
  {
   "cell_type": "code",
   "execution_count": 51,
   "id": "7f904b86",
   "metadata": {},
   "outputs": [
    {
     "name": "stdout",
     "output_type": "stream",
     "text": [
      "63/63 [==============================] - 0s 2ms/step\n"
     ]
    }
   ],
   "source": [
    "# part3 Making the prediction and evaluate model\n",
    "\n",
    "# prediction the test results\n",
    "\n",
    "y_prd=classifier.predict(X_test)\n",
    "y_prd=(y_prd>=0.5)"
   ]
  },
  {
   "cell_type": "code",
   "execution_count": 52,
   "id": "3cc52f38",
   "metadata": {},
   "outputs": [],
   "source": [
    "from sklearn.metrics import confusion_matrix"
   ]
  },
  {
   "cell_type": "code",
   "execution_count": 53,
   "id": "1ba5f8af",
   "metadata": {},
   "outputs": [
    {
     "data": {
      "text/plain": [
       "array([[1558,   37],\n",
       "       [ 248,  157]], dtype=int64)"
      ]
     },
     "execution_count": 53,
     "metadata": {},
     "output_type": "execute_result"
    }
   ],
   "source": [
    "cm=confusion_matrix(y_test,y_prd)\n",
    "cm"
   ]
  },
  {
   "cell_type": "code",
   "execution_count": 54,
   "id": "194fd31a",
   "metadata": {},
   "outputs": [
    {
     "data": {
      "text/plain": [
       "0.8575"
      ]
     },
     "execution_count": 54,
     "metadata": {},
     "output_type": "execute_result"
    }
   ],
   "source": [
    "# Calculate accuracy score\n",
    "from sklearn.metrics import accuracy_score\n",
    "score=accuracy_score(y_test,y_prd)\n",
    "score"
   ]
  },
  {
   "cell_type": "code",
   "execution_count": 55,
   "id": "3a82a84f",
   "metadata": {},
   "outputs": [
    {
     "data": {
      "text/plain": [
       "[array([[ 0.58861   , -0.12273702,  0.22359408,  0.0593917 , -0.09137379,\n",
       "         -0.09829395,  0.14159085, -0.07525861, -0.03308761,  0.09617636],\n",
       "        [-0.55964065,  1.0115826 , -0.20278326, -0.0085417 ,  0.82096064,\n",
       "         -0.28487927,  0.46538818, -0.2209907 , -0.26137337,  0.5120076 ],\n",
       "        [-0.09888114,  0.02527031,  0.06397086,  0.17577286, -0.02436753,\n",
       "          0.49800828, -0.15658388, -0.2750058 , -0.47535214, -0.25844315],\n",
       "        [ 0.17788485, -0.26935974, -0.24373232, -0.8348219 , -0.0248258 ,\n",
       "         -0.54203236,  0.60960215, -0.6846921 ,  0.47145998,  0.26169613],\n",
       "        [-0.3517262 , -0.84548706, -0.16055453,  1.0572897 ,  0.02867373,\n",
       "          0.30267936,  0.6190972 , -0.76627666, -0.20676002, -0.0352774 ],\n",
       "        [ 0.31420615, -0.06124416, -0.19125612,  0.27642184, -0.03107934,\n",
       "         -0.09637983, -0.10804942,  0.04578838,  0.09888235,  0.14844301],\n",
       "        [-0.49990365, -0.14530109,  0.10492501,  0.12059024,  0.7061938 ,\n",
       "          0.59700805, -0.26241997, -0.319971  , -0.20446679,  0.23208787],\n",
       "        [ 0.47804162,  0.6069655 , -0.1742392 ,  0.65056205, -0.13800155,\n",
       "         -0.03713619, -0.12420829, -0.6982667 ,  0.04808474, -0.7819667 ],\n",
       "        [ 0.4012793 , -0.01911853, -0.33902177, -0.0668314 , -0.29894358,\n",
       "          0.35824257,  0.02326168, -0.28279072, -0.65518636,  0.54746246],\n",
       "        [-0.60125464, -0.11825475,  0.8778591 , -0.02319956,  0.06313682,\n",
       "         -0.59408057, -0.10224497,  0.13915373, -0.34320566,  0.07791061]],\n",
       "       dtype=float32),\n",
       " array([-0.02560101,  0.25323164,  0.15317476,  0.16610648, -0.8298071 ,\n",
       "         0.17991407, -0.09248718, -0.30842665,  0.22881082, -0.1804433 ],\n",
       "       dtype=float32),\n",
       " array([[-5.37836969e-01,  1.01217717e-01, -4.29987669e-01,\n",
       "         -1.24006599e-01, -8.74872804e-01,  3.08901429e-01,\n",
       "         -8.11649263e-02],\n",
       "        [-2.60265142e-01,  4.33333039e-01,  3.59019861e-02,\n",
       "         -5.45673847e-01, -5.70866644e-01, -3.03930789e-01,\n",
       "          1.53271273e-01],\n",
       "        [-1.78272501e-01,  2.73926407e-01,  9.61996168e-02,\n",
       "          7.41833389e-01, -1.55305892e-01,  3.52035403e-01,\n",
       "         -6.03310525e-01],\n",
       "        [ 4.81571972e-01, -7.68233478e-01,  1.76504120e-01,\n",
       "          2.31704805e-02,  1.12274778e+00,  1.09400526e-01,\n",
       "          2.41778806e-01],\n",
       "        [ 1.43148173e-02, -3.18458974e-01, -5.83091378e-01,\n",
       "         -6.53384924e-01, -5.35039842e-01, -2.82427669e-01,\n",
       "          1.07658935e+00],\n",
       "        [-1.08630513e-03,  3.59181046e-01, -3.96140754e-01,\n",
       "          4.05829191e-01,  4.10114199e-01,  1.99280411e-01,\n",
       "         -5.57627976e-01],\n",
       "        [ 3.29595990e-02,  2.08663347e-04,  2.09703773e-01,\n",
       "         -2.82087922e-01,  8.74133706e-01, -1.19290441e-01,\n",
       "         -5.51044226e-01],\n",
       "        [ 2.45798618e-01,  4.39491093e-01, -6.67831421e-01,\n",
       "          4.85406488e-01,  1.10396370e-01, -9.34273601e-01,\n",
       "         -8.30088913e-01],\n",
       "        [ 5.48041761e-01,  1.75207760e-02,  6.78904653e-01,\n",
       "          1.06544346e-01, -3.62370282e-01,  1.07558131e-01,\n",
       "         -1.08295870e+00],\n",
       "        [-6.80216491e-01,  1.62223384e-01,  7.23186910e-01,\n",
       "          4.24698502e-01, -4.64204364e-02,  9.32352617e-02,\n",
       "          5.82429230e-01]], dtype=float32),\n",
       " array([ 0.71780163, -0.17863263, -0.5816755 ,  0.41004747, -0.04201179,\n",
       "         0.8634513 , -0.16080305], dtype=float32),\n",
       " array([[-0.13821809,  0.5706135 ,  0.18637514,  0.8111323 ,  0.52602684,\n",
       "         -0.5199231 ],\n",
       "        [ 0.67587054, -0.01603172,  0.56541955, -0.13070922, -0.746772  ,\n",
       "          0.6840419 ],\n",
       "        [ 0.1553764 , -0.5122079 ,  0.9112719 , -0.03610275, -0.8625456 ,\n",
       "          0.6599866 ],\n",
       "        [-0.5927694 ,  0.31228116,  0.06427591,  0.57582664, -0.08354215,\n",
       "         -0.7630194 ],\n",
       "        [ 0.8971595 ,  0.10325716,  0.10438039,  0.6411073 , -0.24368644,\n",
       "          1.0670593 ],\n",
       "        [ 0.5299369 ,  0.9989047 , -0.6018768 ,  0.3710701 ,  0.17523062,\n",
       "         -0.8298766 ],\n",
       "        [ 0.04353623, -0.17125237, -0.8624707 ,  1.4541701 , -1.7390662 ,\n",
       "         -0.95593417]], dtype=float32),\n",
       " array([-0.4440634 ,  0.33785874, -0.35171166,  0.36017388, -0.13568576,\n",
       "        -0.17117803], dtype=float32),\n",
       " array([[ 0.99586606],\n",
       "        [-0.7479376 ],\n",
       "        [ 0.9749564 ],\n",
       "        [-0.72001266],\n",
       "        [ 1.3935803 ],\n",
       "        [ 2.0614414 ]], dtype=float32),\n",
       " array([-0.30261755], dtype=float32),\n",
       " array([[ 0.8621014 , -0.24269646,  0.7714547 ,  0.84680706,  0.7846181 ,\n",
       "         -1.1744181 , -0.56277907, -0.4887783 , -0.41242293, -0.52826226]],\n",
       "       dtype=float32),\n",
       " array([-0.03908294,  0.        , -0.05120077, -0.05012373, -0.02732634,\n",
       "         0.05504687,  0.        ,  0.        ,  0.        ,  0.        ],\n",
       "       dtype=float32),\n",
       " array([[ 0.91780263, -0.8212672 ,  0.36571985, -1.023374  , -0.88846725,\n",
       "          0.54110944, -0.18175377],\n",
       "        [-0.01269972,  0.42811954,  0.53980494, -0.13720751, -0.24198571,\n",
       "         -0.41303217, -0.50030744],\n",
       "        [ 0.3108305 , -1.0976723 ,  0.7159231 , -1.1853665 , -1.0952458 ,\n",
       "          0.7561469 , -0.10825345],\n",
       "        [-0.5511825 , -0.6999546 ,  0.3808964 , -1.2971233 , -0.9736565 ,\n",
       "          0.8094834 ,  1.2214147 ],\n",
       "        [ 0.07215468, -1.0842695 ,  0.95112514, -0.5270641 , -0.5956329 ,\n",
       "          0.6286989 , -0.07459009],\n",
       "        [-0.32150507,  1.2692761 , -0.01267866,  1.0339284 ,  1.1332045 ,\n",
       "         -0.07666764, -0.36472684],\n",
       "        [ 0.22068042, -0.36861685,  0.4606477 ,  0.22531068, -0.38100368,\n",
       "         -0.5825021 , -0.23304346],\n",
       "        [-0.00452048, -0.45076382, -0.4132983 , -0.45492935, -0.10735142,\n",
       "          0.32123655, -0.30258757],\n",
       "        [-0.43272984, -0.426068  ,  0.04745919, -0.50136024,  0.13809973,\n",
       "          0.42700028, -0.15026858],\n",
       "        [-0.37572244, -0.09984881, -0.27771866, -0.43904877,  0.2487678 ,\n",
       "         -0.4673583 , -0.3552283 ]], dtype=float32),\n",
       " array([-0.06975044,  0.07496247, -0.16946205,  0.08747074,  0.09729205,\n",
       "        -0.08472567, -0.09154598], dtype=float32),\n",
       " array([[-1.4314271e+00, -1.5215868e+00, -4.6690369e-01,  8.7931234e-01,\n",
       "         -1.1238781e+00,  5.0891554e-01],\n",
       "        [ 1.2457429e+00,  4.1931701e-01,  9.1614264e-01, -7.9700702e-01,\n",
       "          6.2623090e-01, -1.1501997e+00],\n",
       "        [-8.2097310e-01, -9.9394047e-01, -2.3145334e-01, -3.9215660e-01,\n",
       "         -1.4527137e+00,  6.1348569e-01],\n",
       "        [ 1.0601517e+00,  1.2566226e+00,  3.6659431e-02, -7.3748422e-01,\n",
       "          1.3229632e+00, -1.1312978e+00],\n",
       "        [ 1.3231052e+00, -1.1237907e-03,  1.0951303e+00, -7.0771641e-01,\n",
       "          6.3230968e-01, -9.9782211e-01],\n",
       "        [-6.2512803e-01, -5.8479041e-01, -2.3606592e-01, -5.3300750e-01,\n",
       "         -1.0338482e+00,  6.6385335e-01],\n",
       "        [-9.5247990e-01, -1.0284929e+00, -3.1741795e-01,  1.4854302e+00,\n",
       "         -1.8348135e+00,  1.1575702e-01]], dtype=float32),\n",
       " array([0.33950156, 0.28505045, 0.62102205, 0.11434329, 0.2609883 ,\n",
       "        0.16358018], dtype=float32),\n",
       " array([[-0.97457325],\n",
       "        [-1.1322609 ],\n",
       "        [-1.2075717 ],\n",
       "        [ 1.5889044 ],\n",
       "        [-1.0357741 ],\n",
       "        [ 0.98816156]], dtype=float32),\n",
       " array([-0.3845444], dtype=float32)]"
      ]
     },
     "execution_count": 55,
     "metadata": {},
     "output_type": "execute_result"
    }
   ],
   "source": [
    "## get the weights\n",
    "classifier.get_weights()"
   ]
  }
 ],
 "metadata": {
  "kernelspec": {
   "display_name": "Python 3 (ipykernel)",
   "language": "python",
   "name": "python3"
  },
  "language_info": {
   "codemirror_mode": {
    "name": "ipython",
    "version": 3
   },
   "file_extension": ".py",
   "mimetype": "text/x-python",
   "name": "python",
   "nbconvert_exporter": "python",
   "pygments_lexer": "ipython3",
   "version": "3.9.13"
  }
 },
 "nbformat": 4,
 "nbformat_minor": 5
}
